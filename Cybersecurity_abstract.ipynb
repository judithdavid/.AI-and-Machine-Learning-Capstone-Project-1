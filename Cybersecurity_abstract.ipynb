{
 "cells": [
  {
   "cell_type": "markdown",
   "id": "12f77fbe",
   "metadata": {},
   "source": [
    "# INTRODUCTION "
   ]
  },
  {
   "cell_type": "markdown",
   "id": "852d1e50",
   "metadata": {},
   "source": [
    "Book-My-Show will enable the ads on their website, but they are also very \n",
    "cautious about their user privacy and information who visit their website. \n",
    "Some ads URL could contain a malicious link that can trick any recipient and \n",
    "lead to a malware installation, freezing the system as part of a ransomware \n",
    "attack or revealing sensitive information. Book-My-Show now wants to \n",
    "analyze that whether the particular URL is prone to phishing (malicious) or \n",
    "not."
   ]
  },
  {
   "cell_type": "markdown",
   "id": "167592ca",
   "metadata": {},
   "source": [
    "# PURPOSE\n"
   ]
  },
  {
   "cell_type": "markdown",
   "id": "358b5e7f",
   "metadata": {},
   "source": [
    "Book-My-Show now wants to \n",
    "analyze that whether the particular URL is prone to phishing (malicious) or \n",
    "not.That is build a model that classifies whether it is malicious or not"
   ]
  },
  {
   "cell_type": "markdown",
   "id": "c7be2075",
   "metadata": {},
   "source": [
    "# METHOD\n"
   ]
  },
  {
   "cell_type": "raw",
   "id": "e567ca3b",
   "metadata": {},
   "source": [
    "\n",
    "1) Exploratory Data Analysis: Each sample has 32 features ranging from -1,0,1.\n",
    "    1.1) Explore the data using histogram, heatmaps- to understand the impact of feats on target\n",
    "    1.2) Determine the number of samples present in the data, unique elements \n",
    "         in all the features.\n",
    "    1.3) Check if there is any null value in any features.Correlation of features and feature selection:\n",
    "    1.4) Next, we have to find if there are any correlated features present in the \n",
    "         data. Remove the feature which might be correlated with some threshold.\n",
    "         Building Classification Model\n",
    "\n",
    "2) Finally, build a robust classification system that classifies whether the \n",
    "URL sample is a phishing site or not.\n",
    "\n",
    "    • Build classification models using a binary classifier to detect malicious \n",
    "    or phishing URLs.\n",
    "\n",
    "    • Illustrate the diagnostic ability of this binary classifier by plotting the \n",
    "    ROC curve.\n",
    "\n",
    "    • Validate the accuracy of data by the K-Fold cross-validation technique.\n",
    "\n",
    "    • The final output consists of the model, which will give maximum \n",
    "    accuracy on the validation dataset with selected attributes."
   ]
  },
  {
   "cell_type": "markdown",
   "id": "5652c1a8",
   "metadata": {},
   "source": [
    "# RESULT"
   ]
  },
  {
   "cell_type": "markdown",
   "id": "40e38582",
   "metadata": {},
   "source": [
    "• features 'URLURL_Length','Prefix_Suffix','Domain_registeration_length','SFH','Page_Rank' have more impact on value -1 (phising)\n",
    "  and the rest features have high impact on value 1.\n",
    "\n",
    "• features 'URL_of_Anchor', 'Links_in_tags' has more impact on value 0 and then -1 and has less impact on 1.\n",
    "\n",
    "• feature 'SSLfinal_State' has high correlation 0.71 with 'Result' , not high enough to be removed \n",
    "\n",
    "• with 0.84 'Shortining_Service' and 'double_slash_redirecting' are correlated with each other \n",
    "  with 0.8  'Favicon', 'port' are correlated with each other \n",
    "  not going to drop any columns has no high correlation \n",
    "\n",
    "• training acc is 0.92 and testing acc is .91 good fit model\n",
    "\n",
    "• f1 score for phishing is 0.91 and not phishing is 0.93\n",
    "\n",
    "• average absolute error between the model prediction and the actual observed data is 0.154"
   ]
  },
  {
   "cell_type": "markdown",
   "id": "17647d50",
   "metadata": {},
   "source": [
    "# CONCLUSION"
   ]
  },
  {
   "cell_type": "markdown",
   "id": "e3a99dd4",
   "metadata": {},
   "source": [
    "A binary classification model is used to build the model that classifies whether a site link is phishing or not.\n",
    "Logistic Regression model is build and it is good fit model with training acc is 0.92 and testing acc is .91.\n",
    "model evaluation done using classification metrics and model has f1 score for phishing is 0.91 and not phishing is 0.93.\n",
    "This model solves the problem by detectiong if the link is malicious or not thus helping book my show to enable the ads\n",
    "on their website."
   ]
  },
  {
   "cell_type": "raw",
   "id": "77c32df6",
   "metadata": {},
   "source": [
    "Problem statement:\n",
    "Book-My-Show will enable the ads on their website, but they are also very \n",
    "cautious about their user privacy and information who visit their website. \n",
    "Some ads URL could contain a malicious link that can trick any recipient and \n",
    "lead to a malware installation, freezing the system as part of a ransomware \n",
    "attack or revealing sensitive information. Book-My-Show now wants to \n",
    "analyze that whether the particular URL is prone to phishing (malicious) or \n",
    "not.\n",
    "\n",
    "\n",
    "Dataset description:\n",
    "Dataset name: dataset.csv\n",
    "\n",
    "The input dataset contains an 11k sample corresponding to the 11k URL. Each \n",
    "sample contains 32 features that give a different and unique description of \n",
    "URL ranging from -1,0,1.\n",
    "-1: Phishing\n",
    "0: Suspicious\n",
    "1: Legitimate\n",
    "The sample could be either legitimate or phishing.\n",
    "\n",
    "Task to be performed:\n",
    "Exploratory Data Analysis:\n",
    "1. Each sample has 32 features ranging from -1,0,1. Explore the data using \n",
    "histogram, heatmaps.\n",
    "\n",
    "2. Determine the number of samples present in the data, unique elements \n",
    "in all the features.\n",
    "\n",
    "3. Check if there is any null value in any features.\n",
    "Correlation of features and feature selection:\n",
    "\n",
    "4. Next, we have to find if there are any correlated features present in the \n",
    "data. Remove the feature which might be correlated with some threshold.\n",
    "Building Classification Model\n",
    " \n",
    "1. Finally, build a robust classification system that classifies whether the \n",
    "URL sample is a phishing site or not.\n",
    "\n",
    "• Build classification models using a binary classifier to detect malicious \n",
    "or phishing URLs.\n",
    "\n",
    "• Illustrate the diagnostic ability of this binary classifier by plotting the \n",
    "ROC curve.\n",
    "\n",
    "• Validate the accuracy of data by the K-Fold cross-validation technique.\n",
    "\n",
    "• The final output consists of the model, which will give maximum \n",
    "accuracy on the validation dataset with selected attributes."
   ]
  }
 ],
 "metadata": {
  "kernelspec": {
   "display_name": "Python 3 (ipykernel)",
   "language": "python",
   "name": "python3"
  },
  "language_info": {
   "codemirror_mode": {
    "name": "ipython",
    "version": 3
   },
   "file_extension": ".py",
   "mimetype": "text/x-python",
   "name": "python",
   "nbconvert_exporter": "python",
   "pygments_lexer": "ipython3",
   "version": "3.10.9"
  }
 },
 "nbformat": 4,
 "nbformat_minor": 5
}
